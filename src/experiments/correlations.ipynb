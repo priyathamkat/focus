{
 "cells": [
  {
   "cell_type": "code",
   "execution_count": 1,
   "metadata": {},
   "outputs": [],
   "source": [
    "import numpy as np\n",
    "import pandas as pd\n",
    "import pingouin as pg"
   ]
  },
  {
   "cell_type": "code",
   "execution_count": 2,
   "metadata": {},
   "outputs": [
    {
     "name": "stdout",
     "output_type": "stream",
     "text": [
      "(23904, 15)\n"
     ]
    }
   ],
   "source": [
    "predictions = np.load(\"../../logs/resnet/predictions.npy\")\n",
    "categories = [\n",
    "    \"truck\",\n",
    "    \"car\",\n",
    "    \"plane\",\n",
    "    \"ship\",\n",
    "    \"cat\",\n",
    "    \"dog\",\n",
    "    \"horse\",\n",
    "    \"deer\",\n",
    "    \"frog\",\n",
    "    \"bird\",\n",
    "]\n",
    "print(predictions.shape)"
   ]
  },
  {
   "cell_type": "code",
   "execution_count": 43,
   "metadata": {},
   "outputs": [
    {
     "name": "stdout",
     "output_type": "stream",
     "text": [
      "       truck  car  plane  ship  cat  dog  horse  deer  frog  bird  uc_time  \\\n",
      "0        0.0  0.0    0.0   0.0  0.0  0.0    0.0   0.0   0.0   1.0      0.0   \n",
      "1        0.0  0.0    0.0   0.0  0.0  1.0    0.0   0.0   0.0   0.0      0.0   \n",
      "2        0.0  0.0    0.0   1.0  0.0  0.0    0.0   0.0   0.0   0.0      0.0   \n",
      "3        0.0  0.0    0.0   0.0  0.0  1.0    0.0   0.0   0.0   0.0      0.0   \n",
      "4        0.0  0.0    0.0   0.0  1.0  0.0    0.0   0.0   0.0   0.0      0.0   \n",
      "...      ...  ...    ...   ...  ...  ...    ...   ...   ...   ...      ...   \n",
      "23899    0.0  0.0    0.0   0.0  0.0  1.0    0.0   0.0   0.0   0.0      0.0   \n",
      "23900    0.0  0.0    1.0   0.0  0.0  0.0    0.0   0.0   0.0   0.0      0.0   \n",
      "23901    0.0  1.0    0.0   0.0  0.0  0.0    0.0   0.0   0.0   0.0      0.0   \n",
      "23902    0.0  0.0    0.0   0.0  0.0  0.0    0.0   0.0   0.0   0.0      0.0   \n",
      "23903    0.0  0.0    0.0   0.0  0.0  0.0    0.0   0.0   0.0   0.0      0.0   \n",
      "\n",
      "       uc_weather  uc_locations  top1  \n",
      "0             0.0           0.0   1.0  \n",
      "1             0.0           0.0   1.0  \n",
      "2             0.0           1.0   0.0  \n",
      "3             0.0           0.0   1.0  \n",
      "4             0.0           0.0   1.0  \n",
      "...           ...           ...   ...  \n",
      "23899         0.0           0.0   1.0  \n",
      "23900         0.0           0.0   0.0  \n",
      "23901         0.0           0.0   0.0  \n",
      "23902         0.0           0.0   0.0  \n",
      "23903         0.0           0.0   0.0  \n",
      "\n",
      "[23904 rows x 14 columns]\n"
     ]
    }
   ],
   "source": [
    "predictions_df = pd.DataFrame(predictions, columns=categories + [\"uc_time\", \"uc_weather\", \"uc_locations\", \"top1\", \"top5\",])\n",
    "print(predictions_df.loc[:, :'top1'])"
   ]
  },
  {
   "cell_type": "code",
   "execution_count": 45,
   "metadata": {},
   "outputs": [
    {
     "name": "stdout",
     "output_type": "stream",
     "text": [
      "['uc_weather', 'uc_locations']\n",
      "Partial correlation b/n uc_time & accuracy:               n         r          CI95%     p-val\n",
      "spearman  23904 -0.013391  [-0.03, -0.0]  0.038461\n",
      "['uc_time', 'uc_locations']\n",
      "Partial correlation b/n uc_weather & accuracy:               n         r           CI95%         p-val\n",
      "spearman  23904 -0.044264  [-0.06, -0.03]  7.655301e-12\n",
      "['uc_time', 'uc_weather']\n",
      "Partial correlation b/n uc_locations & accuracy:               n        r           CI95%          p-val\n",
      "spearman  23904 -0.13891  [-0.15, -0.13]  3.086918e-103\n"
     ]
    }
   ],
   "source": [
    "attributes = [\"uc_time\", \"uc_weather\", \"uc_locations\",]\n",
    "for x in attributes:\n",
    "    y_covar = attributes.copy()\n",
    "    y_covar.remove(x)\n",
    "    print(y_covar)\n",
    "    print(f\"Partial correlation b/n {x} & accuracy: {pg.partial_corr(data=predictions_df.loc[:, :'top1'], method='spearman', x=x, y='top1', covar=categories + y_covar)}\")"
   ]
  },
  {
   "cell_type": "code",
   "execution_count": 31,
   "metadata": {},
   "outputs": [
    {
     "name": "stdout",
     "output_type": "stream",
     "text": [
      "['uc_weather', 'uc_locations']\n",
      "Partial correlation b/n uc_time & accuracy:               n         r          CI95%     p-val\n",
      "spearman  23904  0.001969  [-0.01, 0.01]  0.760783\n",
      "['uc_time', 'uc_locations']\n",
      "Partial correlation b/n uc_weather & accuracy:               n         r          CI95%     p-val\n",
      "spearman  23904  0.001465  [-0.01, 0.01]  0.820885\n",
      "['uc_time', 'uc_weather']\n",
      "Partial correlation b/n uc_locations & accuracy:               n         r          CI95%   p-val\n",
      "spearman  23904  0.005048  [-0.01, 0.02]  0.4352\n"
     ]
    }
   ],
   "source": [
    "attributes = [\"uc_time\", \"uc_weather\", \"uc_locations\",]\n",
    "for x in attributes:\n",
    "    y_covar = attributes.copy()\n",
    "    y_covar.remove(x)\n",
    "    print(y_covar)\n",
    "    print(f\"Partial correlation b/n {x} & accuracy: {pg.partial_corr(data=predictions_df, method='spearman', x=x, y='top5', y_covar=y_covar)}\")"
   ]
  },
  {
   "cell_type": "code",
   "execution_count": null,
   "metadata": {},
   "outputs": [],
   "source": []
  }
 ],
 "metadata": {
  "kernelspec": {
   "display_name": "Python 3",
   "language": "python",
   "name": "python3"
  },
  "language_info": {
   "codemirror_mode": {
    "name": "ipython",
    "version": 3
   },
   "file_extension": ".py",
   "mimetype": "text/x-python",
   "name": "python",
   "nbconvert_exporter": "python",
   "pygments_lexer": "ipython3",
   "version": "3.8.2"
  }
 },
 "nbformat": 4,
 "nbformat_minor": 4
}
