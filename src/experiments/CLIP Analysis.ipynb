{
 "cells": [
  {
   "cell_type": "code",
   "execution_count": 2,
   "metadata": {},
   "outputs": [
    {
     "name": "stdout",
     "output_type": "stream",
     "text": [
      "[[1.]\n",
      " [1.]]\n"
     ]
    }
   ],
   "source": [
    "import torch\n",
    "import clip\n",
    "from PIL import Image\n",
    "\n",
    "device = \"cuda\" if torch.cuda.is_available() else \"cpu\"\n",
    "model, preprocess = clip.load(\"ViT-B/32\", device=device)\n"
   ]
  },
  {
   "cell_type": "code",
   "execution_count": 6,
   "metadata": {},
   "outputs": [],
   "source": [
    "categories = [\n",
    "    \"truck\",\n",
    "    \"car\",\n",
    "    \"plane\",\n",
    "    \"ship\",\n",
    "    \"cat\",\n",
    "    \"dog\",\n",
    "    \"horse\",\n",
    "    \"deer\",\n",
    "    \"frog\",\n",
    "    \"bird\",\n",
    "]"
   ]
  },
  {
   "cell_type": "code",
   "execution_count": 10,
   "metadata": {},
   "outputs": [
    {
     "name": "stdout",
     "output_type": "stream",
     "text": [
      "[[4.7231e-04 8.3387e-05 3.1471e-04 9.9854e-01 6.1989e-05 4.7505e-05\n",
      "  1.7381e-04 1.0055e-04 5.9605e-06 1.4865e-04]\n",
      " [1.0948e-03 9.4950e-05 5.2035e-05 9.9561e-01 1.0431e-04 1.2577e-04\n",
      "  6.7472e-04 3.2115e-04 6.5565e-06 1.7500e-03]]\n"
     ]
    }
   ],
   "source": [
    "common_image = preprocess(Image.open(\"/cmlscratch/pkattaki/datasets/bg-var/ship-night/91.jpg\")).unsqueeze(0).to(device)\n",
    "uncommon_image = preprocess(Image.open(\"/cmlscratch/pkattaki/datasets/bg-var/ship-snow/355.jpg\")).unsqueeze(0).to(device)\n",
    "images = torch.cat([common_image, uncommon_image])\n",
    "text_inputs = torch.cat([clip.tokenize(f\"night time photo of a {c}\") for c in categories]).to(device)\n",
    "\n",
    "# text = clip.tokenize([\"a photo of a dog at night\"]).to(device)\n",
    "\n",
    "with torch.no_grad():\n",
    "#     image_features = model.encode_image(image)\n",
    "#     text_features = model.encode_text(text)\n",
    "    \n",
    "    logits_per_image, logits_per_text = model(images, text_inputs)\n",
    "    probs = logits_per_image.softmax(dim=-1).cpu().numpy()\n",
    "    \n",
    "print(probs)"
   ]
  },
  {
   "cell_type": "code",
   "execution_count": null,
   "metadata": {},
   "outputs": [],
   "source": []
  }
 ],
 "metadata": {
  "kernelspec": {
   "display_name": "Python 3",
   "language": "python",
   "name": "python3"
  },
  "language_info": {
   "codemirror_mode": {
    "name": "ipython",
    "version": 3
   },
   "file_extension": ".py",
   "mimetype": "text/x-python",
   "name": "python",
   "nbconvert_exporter": "python",
   "pygments_lexer": "ipython3",
   "version": "3.8.2"
  }
 },
 "nbformat": 4,
 "nbformat_minor": 4
}
